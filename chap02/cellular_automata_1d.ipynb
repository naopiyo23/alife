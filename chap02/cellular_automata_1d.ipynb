{
 "cells": [
  {
   "cell_type": "code",
   "execution_count": null,
   "metadata": {},
   "outputs": [],
   "source": [
    "# -*- coding: utf-8 -*-\n",
    "\n",
    "import sys, os\n",
    "sys.path.append(os.pardir)  # 親ディレクトリのファイルをインポートするための設定\n",
    "import numpy as np\n",
    "from alifebook_lib.visualizers import ArrayVisualizer\n",
    "\n",
    "# visualizerの初期化 (Appendix参照)\n",
    "visualizer = ArrayVisualizer()\n",
    "\n",
    "SPACE_SIZE = 600\n",
    "\n",
    "# CAのバイナリコーディングされたルール (Wolfram code)\n",
    "RULE = 30\n",
    "\n",
    "# CAの状態空間\n",
    "state = np.zeros(SPACE_SIZE, dtype=np.int8)\n",
    "next_state = np.empty(SPACE_SIZE, dtype=np.int8)\n",
    "\n",
    "# 最初の状態を初期化\n",
    "### ランダム ###\n",
    "# state[:] = np.random.randint(2, size=len(state))\n",
    "### 中央の１ピクセルのみ１、後は０ ###\n",
    "state[len(state)//2] = 1\n",
    "\n",
    "while visualizer:  # visualizerはウィンドウが閉じられるとFalseを返す\n",
    "    # stateから計算した次の結果をnext_stateに保存\n",
    "    for i in range(SPACE_SIZE):\n",
    "        # left, center, right cellの状態を取得\n",
    "        l = state[i-1]\n",
    "        c = state[i]\n",
    "        r = state[(i+1)%SPACE_SIZE]\n",
    "        # neighbor_cell_codeは現在の状態のバイナリコーディング\n",
    "        # ex) 現在が[1 1 0]の場合\n",
    "        #     neighbor_cell_codeは 1*2^2 + 1*2^1 + 0*2^0 = 6となるので、\n",
    "        #     RULEの６番目のビットが１ならば、次の状態は１となるので、\n",
    "        #     RULEをneighbor_cell_code分だけビットシフトして１と論理積をとる。\n",
    "        neighbor_cell_code = 2**2 * l + 2**1 * c + 2**0 * r\n",
    "        if (RULE >> neighbor_cell_code) & 1:\n",
    "            next_state[i] = 1\n",
    "        else:\n",
    "            next_state[i] = 0\n",
    "    # 最後に入れ替え\n",
    "    state, next_state = next_state, state\n",
    "    # 表示をアップデート\n",
    "    visualizer.update(1-state)\n"
   ]
  }
 ],
 "metadata": {
  "kernelspec": {
   "display_name": "Python 3",
   "language": "python",
   "name": "python3"
  },
  "language_info": {
   "codemirror_mode": {
    "name": "ipython",
    "version": 3
   },
   "file_extension": ".py",
   "mimetype": "text/x-python",
   "name": "python",
   "nbconvert_exporter": "python",
   "pygments_lexer": "ipython3",
   "version": "3.6.4"
  }
 },
 "nbformat": 4,
 "nbformat_minor": 2
}
